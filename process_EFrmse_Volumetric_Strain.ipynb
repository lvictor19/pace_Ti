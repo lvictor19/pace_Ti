{
 "cells": [
  {
   "cell_type": "code",
   "execution_count": 50,
   "metadata": {},
   "outputs": [],
   "source": [
    "import json\n",
    "from monty.json import MontyDecoder,MontyEncoder\n",
    "from sklearn.metrics import mean_absolute_error,mean_squared_error"
   ]
  },
  {
   "cell_type": "code",
   "execution_count": 2,
   "metadata": {},
   "outputs": [],
   "source": [
    "with open(\"Ti_data_both.json\") as f:\n",
    "    data=json.loads(f.read(),cls=MontyDecoder)"
   ]
  },
  {
   "cell_type": "code",
   "execution_count": 3,
   "metadata": {},
   "outputs": [],
   "source": [
    "import numpy as np\n",
    "for i in np.arange(14013):\n",
    "    if not 'structure' in data[i].keys():\n",
    "        print(i)"
   ]
  },
  {
   "cell_type": "code",
   "execution_count": 8,
   "metadata": {},
   "outputs": [],
   "source": [
    "bd=-47.039394/6\n",
    "b1=-47.02055184878181/6\n",
    "b2=-29.108143955990954/6"
   ]
  },
  {
   "cell_type": "code",
   "execution_count": null,
   "metadata": {},
   "outputs": [],
   "source": []
  },
  {
   "cell_type": "code",
   "execution_count": 9,
   "metadata": {},
   "outputs": [
    {
     "name": "stderr",
     "output_type": "stream",
     "text": [
      "100%|██████████| 14013/14013 [00:02<00:00, 5270.03it/s]\n",
      "100%|██████████| 8067/8067 [00:00<00:00, 53622.97it/s]\n"
     ]
    }
   ],
   "source": [
    "energies_dft=np.zeros(len(data))\n",
    "forces_dft=[]\n",
    "energies_2021=np.zeros(len(data))\n",
    "forces_2021=[]\n",
    "energies_2022=np.zeros(len(data))\n",
    "forces_2022=[]\n",
    "from tqdm import tqdm\n",
    "for i in tqdm(np.arange(14013)):\n",
    "    atom_num=len(data[0]['structure'].species)\n",
    "    energies_dft[i]=data[i]['energy']/atom_num-bd\n",
    "    forces_dft+=data[i]['forces']\n",
    "    energies_2021[i]=data[i]['2021']['energy']/atom_num-b1\n",
    "    forces_2021+=data[i]['2021']['forces'].tolist()\n",
    "    energies_2022[i]=data[i]['2022']['energy']/atom_num-b2\n",
    "    forces_2022+=data[i]['2022']['forces'].tolist()\n",
    "\n",
    "    \n",
    "\n",
    "for i in tqdm(np.arange(14013,len(data),1)):\n",
    "    atom_num=len(data[i]['calc_properties'][0]['structure'].species)\n",
    "    energies_dft[i]=data[i]['calc_properties'][0]['energy']/atom_num-bd\n",
    "    forces_dft+=data[i]['calc_properties'][0]['forces']\n",
    "    energies_2021[i]=data[i]['2021']['energy']/atom_num-b1\n",
    "    forces_2021+=data[i]['2021']['forces'].tolist()\n",
    "    energies_2022[i]=data[i]['2022']['energy']/atom_num-b2\n",
    "    forces_2022+=data[i]['2022']['forces'].tolist()\n",
    "\n",
    "\n"
   ]
  },
  {
   "cell_type": "code",
   "execution_count": 10,
   "metadata": {},
   "outputs": [
    {
     "data": {
      "image/png": "[encoded data removed]",
      "text/plain": [
       "<Figure size 350x262.5 with 1 Axes>"
      ]
     },
     "metadata": {},
     "output_type": "display_data"
    }
   ],
   "source": [
    "from matplotlib import pyplot as plt\n",
    "with plt.style.context('science'):\n",
    "    plt.figure()\n",
    "    plt.scatter(energies_dft,energies_2021,c='r',s=0.2,label='e2021')\n",
    "    plt.scatter(energies_dft,energies_2022,c='b',s=0.2,label='e2022')\n",
    "    plt.plot(np.arange(8),np.arange(8),c='k')\n",
    "    plt.legend()\n",
    "    plt.show()\n",
    "    plt.close()"
   ]
  },
  {
   "cell_type": "code",
   "execution_count": 60,
   "metadata": {},
   "outputs": [
    {
     "name": "stderr",
     "output_type": "stream",
     "text": [
      "No artists with labels found to put in legend.  Note that artists whose label start with an underscore are ignored when legend() is called with no argument.\n"
     ]
    },
    {
     "name": "stdout",
     "output_type": "stream",
     "text": [
      "RMSE=0.01060\n",
      "MAE=0.00542\n"
     ]
    }
   ],
   "source": [
    "from matplotlib import pyplot as plt\n",
    "with plt.style.context('science'):\n",
    "    plt.figure()\n",
    "    plt.scatter(energies_dft,energies_2021,c='r',s=0.3)\n",
    "    plt.legend()\n",
    "    plt.xlabel(r\"$\\Delta E^{DFT} \\enspace (eV/atom)$\")\n",
    "    plt.ylabel(r\"$\\Delta E^{pred} \\enspace (eV/atom)$\")\n",
    "    plt.savefig(\"2021energy.png\",dpi=200)\n",
    "    plt.close()\n",
    "print(\"RMSE=%.5f\"%np.sqrt(mean_squared_error(energies_dft,energies_2021)))\n",
    "print(\"MAE=%.5f\"%mean_absolute_error(energies_dft,energies_2021))"
   ]
  },
  {
   "cell_type": "code",
   "execution_count": 61,
   "metadata": {},
   "outputs": [
    {
     "name": "stderr",
     "output_type": "stream",
     "text": [
      "No artists with labels found to put in legend.  Note that artists whose label start with an underscore are ignored when legend() is called with no argument.\n"
     ]
    },
    {
     "name": "stdout",
     "output_type": "stream",
     "text": [
      "RMSE=2.26465\n",
      "MAE=1.78295\n"
     ]
    }
   ],
   "source": [
    "from matplotlib import pyplot as plt\n",
    "with plt.style.context('science'):\n",
    "    plt.figure()\n",
    "    plt.scatter(energies_dft,energies_2022,c='r',s=0.3)\n",
    "    plt.legend()\n",
    "    plt.xlabel(r\"$\\Delta E^{DFT} \\enspace (eV/atom)$\")\n",
    "    plt.ylabel(r\"$\\Delta E^{pred} \\enspace (eV/atom)$\")\n",
    "    plt.savefig(\"2022energy.png\",dpi=200)\n",
    "    plt.close()\n",
    "\n",
    "print(\"RMSE=%.5f\"%np.sqrt(mean_squared_error(energies_dft,energies_2022)))\n",
    "print(\"MAE=%.5f\"%mean_absolute_error(energies_dft,energies_2022))"
   ]
  },
  {
   "cell_type": "code",
   "execution_count": 11,
   "metadata": {},
   "outputs": [
    {
     "data": {
      "image/png": "[encoded data removed]",
      "text/plain": [
       "<Figure size 350x262.5 with 1 Axes>"
      ]
     },
     "metadata": {},
     "output_type": "display_data"
    }
   ],
   "source": [
    "from matplotlib import pyplot as plt\n",
    "with plt.style.context('science'):\n",
    "    plt.figure()\n",
    "    plt.scatter(energies_dft,energies_2021,c='r',s=0.2,label='e2021')\n",
    "    plt.scatter(energies_dft,energies_2022,c='b',s=0.2,label='e2022')\n",
    "    plt.plot(np.arange(8),np.arange(8),c='k')\n",
    "    plt.legend()\n",
    "    plt.ylim([0,8])\n",
    "    plt.show()\n",
    "    plt.close()"
   ]
  },
  {
   "cell_type": "code",
   "execution_count": 22,
   "metadata": {},
   "outputs": [
    {
     "data": {
      "image/png": "[encoded data removed]",
      "text/plain": [
       "<Figure size 350x262.5 with 1 Axes>"
      ]
     },
     "metadata": {},
     "output_type": "display_data"
    }
   ],
   "source": [
    "from matplotlib import pyplot as plt\n",
    "with plt.style.context('science'):\n",
    "    plt.figure()\n",
    "    plt.scatter(energies_dft,energies_2021,c='r',s=0.1,label='e2021')\n",
    "    plt.plot(np.arange(8),np.arange(8),c='k')\n",
    "    plt.legend()\n",
    "    plt.xlim([-0.01,0.1])\n",
    "    plt.ylim([-0.01,0.1])\n",
    "    plt.show()\n",
    "    plt.close()"
   ]
  },
  {
   "cell_type": "code",
   "execution_count": null,
   "metadata": {},
   "outputs": [],
   "source": [
    "\n",
    "data[-1].keys()\n",
    "data[-1]['calc_properties'][0]['energy']\n",
    "a=data[-1]['calc_properties'][0]['structure']\n"
   ]
  },
  {
   "cell_type": "code",
   "execution_count": 34,
   "metadata": {},
   "outputs": [
    {
     "data": {
      "text/plain": [
       "0.4772796940286721"
      ]
     },
     "execution_count": 34,
     "metadata": {},
     "output_type": "execute_result"
    }
   ],
   "source": [
    "np.max(abs(energies_2021-energies_dft))"
   ]
  },
  {
   "cell_type": "code",
   "execution_count": 265,
   "metadata": {},
   "outputs": [
    {
     "data": {
      "text/plain": [
       "{'Burgers_Bains',\n",
       " 'None',\n",
       " 'aimd',\n",
       " 'bcc_omega',\n",
       " 'gb',\n",
       " 'gsfe',\n",
       " 'icsd',\n",
       " 'phonons',\n",
       " 'strain',\n",
       " 'surfaces',\n",
       " 'vacancies',\n",
       " 'vacancies_ideal',\n",
       " 'volumetric'}"
      ]
     },
     "execution_count": 265,
     "metadata": {},
     "output_type": "execute_result"
    }
   ],
   "source": [
    "perts=set()\n",
    "for i in np.arange(len(data)):\n",
    "    perts.add(data[i]['metadata']['perturbation'])\n",
    "    # if abs(energies_2021[i]-energies_dft[i])>1:\n",
    "    # if data[i]['metadata']['perturbation']==\"volumetric\":\n",
    "    #     print(data[i]['metadata'])\n",
    "perts"
   ]
  },
  {
   "cell_type": "code",
   "execution_count": 39,
   "metadata": {},
   "outputs": [
    {
     "name": "stdout",
     "output_type": "stream",
     "text": [
      "{'proto': 'mp-84POSCAR', 'method': 'volume_scale', 'scale': 0.020000000000000004, 'volume': 35.408301902013285, 'perturbation': 'volumetric', 'calc_loc': '/scratch/anirudhrn/titanium/vol_deform/calculations/700'}\n"
     ]
    }
   ],
   "source": [
    "perts=set()\n",
    "for i in np.arange(len(data)):\n",
    "    # if abs(energies_2021[i]-energies_dft[i])>1:\n",
    "    if data[i]['metadata']['perturbation']==\"volumetric\":\n",
    "        print(data[i]['metadata'])\n",
    "        break\n",
    "# perts"
   ]
  },
  {
   "cell_type": "code",
   "execution_count": null,
   "metadata": {},
   "outputs": [
    {
     "data": {
      "text/plain": [
       "-7.836758641463635"
      ]
     },
     "metadata": {},
     "output_type": "display_data"
    }
   ],
   "source": [
    "b1"
   ]
  },
  {
   "cell_type": "code",
   "execution_count": 13,
   "metadata": {},
   "outputs": [],
   "source": [
    "forces_sca_dft=np.sqrt(np.sum(np.array(forces_dft)**2,axis=1))\n",
    "forces_sca_2021=np.sqrt(np.sum(np.array(forces_2021)**2,axis=1))\n",
    "forces_sca_2022=np.sqrt(np.sum(np.array(forces_2022)**2,axis=1))"
   ]
  },
  {
   "cell_type": "code",
   "execution_count": 62,
   "metadata": {},
   "outputs": [
    {
     "name": "stdout",
     "output_type": "stream",
     "text": [
      "RMSE=0.38359\n",
      "MAE=0.17900\n"
     ]
    }
   ],
   "source": [
    "from matplotlib import pyplot as plt\n",
    "with plt.style.context('science'):\n",
    "    plt.figure()\n",
    "    plt.scatter(forces_sca_dft,forces_sca_2021,c='r',s=0.3,label='f2021')\n",
    "\n",
    "    plt.xlabel(r\"$|F^{i}|^{DFT} \\enspace (eV/Å)$\")\n",
    "    plt.ylabel(r\"$|F^{i}|^{pred} \\enspace (eV/Å)$\")\n",
    "    plt.savefig(\"2021force.png\",dpi=200)\n",
    "    plt.close()\n",
    "\n",
    "\n",
    "print(\"RMSE=%.5f\"%np.sqrt(mean_squared_error(forces_sca_dft,forces_sca_2021)))\n",
    "print(\"MAE=%.5f\"%mean_absolute_error(forces_sca_dft,forces_sca_2021))"
   ]
  },
  {
   "cell_type": "code",
   "execution_count": 64,
   "metadata": {},
   "outputs": [
    {
     "name": "stdout",
     "output_type": "stream",
     "text": [
      "RMSE=7.07958\n",
      "MAE=0.24759\n"
     ]
    }
   ],
   "source": [
    "from matplotlib import pyplot as plt\n",
    "with plt.style.context('science'):\n",
    "    plt.figure()\n",
    "    plt.scatter(forces_sca_dft,forces_sca_2022,c='r',s=0.3,label='f2022')\n",
    "    plt.xlabel(r\"$|F^{i}|^{DFT} \\enspace (eV/Å)$\")\n",
    "    plt.ylabel(r\"$|F^{i}|^{pred} \\enspace (eV/Å)$\")\n",
    "    plt.savefig(\"2022force.png\",dpi=200)\n",
    "    plt.close()\n",
    "\n",
    "\n",
    "print(\"RMSE=%.5f\"%np.sqrt(mean_squared_error(forces_sca_dft,forces_sca_2022)))\n",
    "print(\"MAE=%.5f\"%mean_absolute_error(forces_sca_dft,forces_sca_2022))"
   ]
  },
  {
   "cell_type": "code",
   "execution_count": 37,
   "metadata": {},
   "outputs": [
    {
     "data": {
      "image/png": "[encoded data removed]",
      "text/plain": [
       "<Figure size 350x262.5 with 1 Axes>"
      ]
     },
     "metadata": {},
     "output_type": "display_data"
    }
   ],
   "source": [
    "from matplotlib import pyplot as plt\n",
    "with plt.style.context('science'):\n",
    "    plt.figure()\n",
    "    plt.scatter(forces_sca_dft,forces_sca_2021,c='r',s=0.2,label='f2021')\n",
    "    plt.scatter(forces_sca_dft,forces_sca_2022,c='b',s=0.2,label='f2022')\n",
    "    plt.plot(np.arange(40),np.arange(40),c='k')\n",
    "    plt.legend()\n",
    "    plt.show()"
   ]
  },
  {
   "cell_type": "markdown",
   "metadata": {},
   "source": [
    "# rmse different range"
   ]
  },
  {
   "cell_type": "code",
   "execution_count": 75,
   "metadata": {},
   "outputs": [],
   "source": [
    "from matplotlib import pyplot as plt\n",
    "increment=0.1\n",
    "standards=np.arange(increment,1+1e-7,increment)\n",
    "rmses=[]\n",
    "for i in standards:\n",
    "    which=np.where(energies_dft<=i)\n",
    "    rmse=np.sqrt(mean_squared_error(energies_dft[which],energies_2021[which]))\n",
    "    rmses.append(rmse)\n",
    "with plt.style.context('science'):\n",
    "    plt.figure()\n",
    "    plt.scatter(standards,rmses,c='r',s=0.2)\n",
    "    plt.plot(standards,rmses,c='r')\n",
    "    plt.xlabel(r\"$\\Delta E^{DFT} \\enspace (eV/atom)$\")\n",
    "    plt.ylabel(r\"$\\Lambda \\enspace (eV/atom)$\")\n",
    "    plt.savefig(\"2021_energyrmse_inc\"+str(increment)+\"_lambda.png\",dpi=200)\n",
    "    plt.close()"
   ]
  },
  {
   "cell_type": "code",
   "execution_count": 99,
   "metadata": {},
   "outputs": [],
   "source": [
    "from matplotlib import pyplot as plt\n",
    "increment=0.05\n",
    "standards=np.arange(0,1+1e-7,increment)\n",
    "rmses=[]\n",
    "for i in np.arange(len(standards)-1):\n",
    "    which=np.where((energies_dft<=standards[i+1]) & (energies_dft>standards[i]))[0]\n",
    "    rmse=np.sqrt(mean_squared_error(energies_dft[which],energies_2021[which]))\n",
    "    rmses.append(rmse)\n",
    "with plt.style.context('science'):\n",
    "    plt.figure()\n",
    "    plt.scatter(standards[1:],rmses,c='r',s=0.2)\n",
    "    plt.plot(standards[1:],rmses,c='r')\n",
    "    plt.xlabel(r\"$\\Delta E^{DFT} \\enspace (eV/atom)$\")\n",
    "    plt.ylabel(r\"$\\delta \\enspace (eV/atom)$\")\n",
    "    plt.savefig(\"2021_energyrmse_inc\"+str(increment)+\"_delta.png\",dpi=200)\n",
    "    plt.close()"
   ]
  },
  {
   "cell_type": "code",
   "execution_count": 109,
   "metadata": {},
   "outputs": [],
   "source": [
    "from matplotlib import pyplot as plt\n",
    "increment=0.2\n",
    "maxi=1\n",
    "standards=np.arange(increment,maxi+1e-7,increment)\n",
    "rmses=[]\n",
    "for i in standards:\n",
    "    which=np.where(forces_sca_dft<=i)\n",
    "    rmse=np.sqrt(mean_squared_error(forces_sca_dft[which],forces_sca_2021[which]))\n",
    "    rmses.append(rmse)\n",
    "with plt.style.context('science'):\n",
    "    plt.figure()\n",
    "    plt.scatter(standards,rmses,c='r',s=0.2)\n",
    "    plt.plot(standards,rmses,c='r')\n",
    "    plt.xlabel(r\"$|F^{i}|^{DFT} \\enspace (eV/Å)$\")\n",
    "    plt.ylabel(r\"$\\Lambda \\enspace (eV/Å)$\")\n",
    "    plt.savefig(\"2021_forcermse_inc\"+str(increment)+\"_maxi\"+str(maxi)+\"_lambda.png\",dpi=200)\n",
    "    plt.close()"
   ]
  },
  {
   "cell_type": "code",
   "execution_count": 113,
   "metadata": {},
   "outputs": [],
   "source": [
    "from matplotlib import pyplot as plt\n",
    "increment=0.1\n",
    "maxi=5\n",
    "standards=np.arange(0,maxi+1e-7,increment)\n",
    "rmses=[]\n",
    "for i in np.arange(len(standards)-1):\n",
    "    which=np.where((forces_sca_dft<=standards[i+1]) & (forces_sca_dft>standards[i]))[0]\n",
    "    rmse=np.sqrt(mean_squared_error(forces_sca_dft[which],forces_sca_2021[which]))\n",
    "    rmses.append(rmse)\n",
    "with plt.style.context('science'):\n",
    "    plt.figure()\n",
    "    plt.scatter(standards[1:],rmses,c='r',s=0.2)\n",
    "    plt.plot(standards[1:],rmses,c='r')\n",
    "    plt.xlabel(r\"$|F^{i}|^{DFT} \\enspace (eV/Å)$\")\n",
    "    plt.ylabel(r\"$\\delta \\enspace (eV/Å)$\")\n",
    "    plt.savefig(\"2021_forcermse_inc\"+str(increment)+\"_maxi\"+str(maxi)+\"_delta.png\",dpi=200)\n",
    "    plt.close()"
   ]
  },
  {
   "cell_type": "markdown",
   "metadata": {},
   "source": [
    "# Volumetric deformation"
   ]
  },
  {
   "cell_type": "code",
   "execution_count": 114,
   "metadata": {},
   "outputs": [],
   "source": [
    "volumetric_id=[]\n",
    "for i in np.arange(len(data)):\n",
    "    # if abs(energies_2021[i]-energies_dft[i])>1:\n",
    "    if data[i]['metadata']['perturbation']==\"volumetric\":\n",
    "        volumetric_id.append(i)"
   ]
  },
  {
   "cell_type": "code",
   "execution_count": 122,
   "metadata": {},
   "outputs": [],
   "source": [
    "protos=set()\n",
    "for i in volumetric_id:\n",
    "    protos.add(data[i]['metadata']['proto'])"
   ]
  },
  {
   "cell_type": "code",
   "execution_count": 160,
   "metadata": {},
   "outputs": [
    {
     "data": {
      "text/plain": [
       "24"
      ]
     },
     "execution_count": 160,
     "metadata": {},
     "output_type": "execute_result"
    }
   ],
   "source": [
    "len(protos)"
   ]
  },
  {
   "cell_type": "code",
   "execution_count": 193,
   "metadata": {},
   "outputs": [],
   "source": [
    "colors=['black','dimgray','lightcoral','brown','red','orangered','chocolate',\n",
    "        'burlywood','orange','darkgoldenrod','gold','olive','darkolivegreen','chartreuse',\n",
    "        'green','turquoise','darkcyan','deepskyblue','dodgerblue','midnightblue','blue',\n",
    "        'blueviolet','violet','deeppink']\n",
    "markers=['.','o','v','^','<','>','s','*','D','1','+','x',\n",
    "            '.','o','v','^','<','>','s','*','D','1','+','x']\n",
    "with plt.style.context('science'):\n",
    "    plt.figure()\n",
    "    for i in np.arange(len(protos)):\n",
    "        Vs=[]\n",
    "        Es=[]\n",
    "        Epreds=[]\n",
    "        for j in volumetric_id:\n",
    "            if data[j]['metadata']['proto']==list(protos)[i]:\n",
    "                Vs.append(data[j]['metadata']['volume']/len(data[j]['structure'].species))\n",
    "                Es.append(data[j]['energy']/len(data[j]['structure'].species))\n",
    "                Epreds.append(data[j]['2021']['energy']/len(data[j]['structure'].species))\n",
    "        Vs=np.array(Vs)\n",
    "        Es=np.array(Es)-bd\n",
    "        Epreds=np.array(Epreds)-b1\n",
    "        order=np.argsort(Vs)\n",
    "        plt.scatter(Vs[order],Es[order],c=colors[i],marker=markers[i],s=0.2,label=list(protos)[i])\n",
    "        plt.plot(Vs[order],Epreds[order],c=colors[i])\n",
    "    plt.xlabel(r\"$\\overline{V} \\enspace (Å^{3}/atom)$\")\n",
    "    plt.ylabel(r\"$\\Delta E (eV/atom)$\")\n",
    "    plt.legend(bbox_to_anchor=(0.5, -0.05))\n",
    "    plt.savefig(\"Volumetric_deformation.png\",dpi=200)\n",
    "    plt.close()\n",
    "            "
   ]
  },
  {
   "cell_type": "code",
   "execution_count": 240,
   "metadata": {},
   "outputs": [],
   "source": [
    "colors=['black','dimgray','lightcoral','brown','red','orangered','chocolate',\n",
    "        'burlywood','orange','darkgoldenrod','gold','olive','darkolivegreen','chartreuse',\n",
    "        'green','turquoise','darkcyan','deepskyblue','dodgerblue','midnightblue','blue',\n",
    "        'blueviolet','violet','deeppink']\n",
    "index=np.array([0,4,8,12,16,20,1,5,9,13,17,21,2,6,10,14,18,22,3,7,11,15,19,23])\n",
    "colors_=[]\n",
    "for i in index:\n",
    "    colors_.append(colors[i])\n",
    "colors=colors_\n",
    "markers=['.','o','v','^','<','>','s','*','D','1','+','x',\n",
    "            '.','o','v','^','<','>','s','*','D','1','+','x']\n",
    "with plt.style.context('science'):\n",
    "    plt.figure()\n",
    "    for i in np.arange(6):\n",
    "        Vs=[]\n",
    "        Es=[]\n",
    "        Epreds=[]\n",
    "        for j in volumetric_id:\n",
    "            if data[j]['metadata']['proto']==list(protos)[i]:\n",
    "                Vs.append(data[j]['metadata']['volume']/len(data[j]['structure'].species))\n",
    "                Es.append(data[j]['energy']/len(data[j]['structure'].species))\n",
    "                Epreds.append(data[j]['2021']['energy']/len(data[j]['structure'].species))\n",
    "        Vs=np.array(Vs)\n",
    "        Es=np.array(Es)-bd\n",
    "        Epreds=np.array(Epreds)-b1\n",
    "        order=np.argsort(Vs)\n",
    "        plt.scatter(Vs[order],Epreds[order],c=colors[i],marker=markers[i],s=3,label=list(protos)[i])\n",
    "        plt.plot(Vs[order],Es[order],c=colors[i])\n",
    "    plt.xlabel(r\"$\\overline{V} \\enspace (Å^{3}/atom)$\")\n",
    "    plt.ylabel(r\"$\\Delta E \\enspace (eV/atom)$\")\n",
    "    plt.legend(bbox_to_anchor=(0.5, -0.15))\n",
    "    plt.savefig(\"Volumetric_deformation_0.png\",dpi=250)\n",
    "    plt.close()\n",
    "            "
   ]
  },
  {
   "cell_type": "code",
   "execution_count": 241,
   "metadata": {},
   "outputs": [],
   "source": [
    "with plt.style.context('science'):\n",
    "    plt.figure()\n",
    "    for i in np.arange(6,12,1):\n",
    "        Vs=[]\n",
    "        Es=[]\n",
    "        Epreds=[]\n",
    "        for j in volumetric_id:\n",
    "            if data[j]['metadata']['proto']==list(protos)[i]:\n",
    "                Vs.append(data[j]['metadata']['volume']/len(data[j]['structure'].species))\n",
    "                Es.append(data[j]['energy']/len(data[j]['structure'].species))\n",
    "                Epreds.append(data[j]['2021']['energy']/len(data[j]['structure'].species))\n",
    "        Vs=np.array(Vs)\n",
    "        Es=np.array(Es)-bd\n",
    "        Epreds=np.array(Epreds)-b1\n",
    "        order=np.argsort(Vs)\n",
    "        plt.scatter(Vs[order],Epreds[order],c=colors[i],marker=markers[i],s=3,label=list(protos)[i])\n",
    "        plt.plot(Vs[order],Es[order],c=colors[i])\n",
    "    plt.xlabel(r\"$\\overline{V} \\enspace (Å^{3}/atom)$\")\n",
    "    plt.ylabel(r\"$\\Delta E \\enspace (eV/atom)$\")\n",
    "    plt.legend(bbox_to_anchor=(0.5, -0.15))\n",
    "    plt.savefig(\"Volumetric_deformation_1.png\",dpi=250)\n",
    "    plt.close()\n",
    "            "
   ]
  },
  {
   "cell_type": "code",
   "execution_count": 242,
   "metadata": {},
   "outputs": [],
   "source": [
    "with plt.style.context('science'):\n",
    "    plt.figure()\n",
    "    for i in np.arange(12,18,1):\n",
    "        Vs=[]\n",
    "        Es=[]\n",
    "        Epreds=[]\n",
    "        for j in volumetric_id:\n",
    "            if data[j]['metadata']['proto']==list(protos)[i]:\n",
    "                Vs.append(data[j]['metadata']['volume']/len(data[j]['structure'].species))\n",
    "                Es.append(data[j]['energy']/len(data[j]['structure'].species))\n",
    "                Epreds.append(data[j]['2021']['energy']/len(data[j]['structure'].species))\n",
    "        Vs=np.array(Vs)\n",
    "        Es=np.array(Es)-bd\n",
    "        Epreds=np.array(Epreds)-b1\n",
    "        order=np.argsort(Vs)\n",
    "        plt.scatter(Vs[order],Epreds[order],c=colors[i],marker=markers[i],s=3,label=list(protos)[i])\n",
    "        plt.plot(Vs[order],Es[order],c=colors[i])\n",
    "    plt.xlabel(r\"$\\overline{V} \\enspace (Å^{3}/atom)$\")\n",
    "    plt.ylabel(r\"$\\Delta E \\enspace (eV/atom)$\")\n",
    "    plt.legend(bbox_to_anchor=(0.5, -0.15))\n",
    "    plt.savefig(\"Volumetric_deformation_2.png\",dpi=250)\n",
    "    plt.close()\n",
    "            "
   ]
  },
  {
   "cell_type": "code",
   "execution_count": 209,
   "metadata": {},
   "outputs": [
    {
     "data": {
      "text/plain": [
       "'mp-605790POSCAR'"
      ]
     },
     "execution_count": 209,
     "metadata": {},
     "output_type": "execute_result"
    }
   ],
   "source": [
    "list(protos)[23]"
   ]
  },
  {
   "cell_type": "code",
   "execution_count": 212,
   "metadata": {},
   "outputs": [
    {
     "data": {
      "text/plain": [
       "22"
      ]
     },
     "execution_count": 212,
     "metadata": {},
     "output_type": "execute_result"
    }
   ],
   "source": [
    "len(colors)"
   ]
  },
  {
   "cell_type": "code",
   "execution_count": 264,
   "metadata": {},
   "outputs": [],
   "source": [
    "with plt.style.context('science'):\n",
    "    plt.figure()\n",
    "    for i in np.arange(24):\n",
    "        Vs=[]\n",
    "        Es=[]\n",
    "        Epreds=[]\n",
    "        for j in volumetric_id:\n",
    "            if data[j]['metadata']['proto']==list(protos)[i]:\n",
    "                if data[j]['calc']=='final':\n",
    "                    Vs.append(data[j]['metadata']['volume']/len(data[j]['structure'].species))\n",
    "                    Es.append(data[j]['energy']/len(data[j]['structure'].species))\n",
    "                    Epreds.append(data[j]['2021']['energy']/len(data[j]['structure'].species))\n",
    "        Vs=np.array(Vs)\n",
    "        Es=np.array(Es)-bd\n",
    "        Epreds=np.array(Epreds)-b1\n",
    "        order=np.argsort(Vs)\n",
    "        plt.scatter(Vs[order],Es[order],c=colors[i],marker=markers[i],s=3,label=list(protos)[i])\n",
    "        plt.plot(Vs[order],Epreds[order],c=colors[i])\n",
    "    plt.xlabel(r\"$\\overline{V} \\enspace (Å^{3}/atom)$\")\n",
    "    plt.ylabel(r\"$\\Delta E \\enspace (eV/atom)$\")\n",
    "    # plt.ylim([0,0.2])\n",
    "    plt.legend(bbox_to_anchor=(0.5, -0.15))\n",
    "    plt.savefig(\"Volumetric_deformation.png\",dpi=250)\n",
    "    plt.close()\n",
    "            "
   ]
  },
  {
   "cell_type": "code",
   "execution_count": 261,
   "metadata": {},
   "outputs": [
    {
     "name": "stdout",
     "output_type": "stream",
     "text": [
      "converging\n"
     ]
    }
   ],
   "source": [
    "for i in data:\n",
    "    if i['calc']!='final':\n",
    "        print(i['calc'])\n",
    "        break"
   ]
  },
  {
   "cell_type": "code",
   "execution_count": 266,
   "metadata": {},
   "outputs": [
    {
     "name": "stdout",
     "output_type": "stream",
     "text": [
      "{'proto': 'lisi', 'special_direction': [-4.31801422007553e-32, -2.274228670934021e-16, -5.16158201609189e-65, -2.0253220243767784e-33, 1.8020786824515989e-32, 1.0], 'magnitude': 0.14285714285714288, 'perturbation': 'strain', 'calc_loc': '/scratch/anirudhrn/titanium/strain_proto/calculations/700'}\n"
     ]
    }
   ],
   "source": [
    "for i in data:\n",
    "    if i['metadata']['perturbation']=='strain':\n",
    "        print(i['metadata'])\n",
    "        break"
   ]
  },
  {
   "cell_type": "code",
   "execution_count": null,
   "metadata": {},
   "outputs": [],
   "source": []
  }
 ],
 "metadata": {
  "kernelspec": {
   "display_name": "Python 3.9.13",
   "language": "python",
   "name": "python3"
  },
  "language_info": {
   "codemirror_mode": {
    "name": "ipython",
    "version": 3
   },
   "file_extension": ".py",
   "mimetype": "text/x-python",
   "name": "python",
   "nbconvert_exporter": "python",
   "pygments_lexer": "ipython3",
   "version": "3.9.13"
  },
  "orig_nbformat": 4,
  "vscode": {
   "interpreter": {
    "hash": "73645be3863ba6b38e1fd5349e24a701f11e189fab09583c33df60ea71de73c9"
   }
  }
 },
 "nbformat": 4,
 "nbformat_minor": 2
}
