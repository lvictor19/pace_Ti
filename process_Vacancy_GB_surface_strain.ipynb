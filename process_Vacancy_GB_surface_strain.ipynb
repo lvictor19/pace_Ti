{
 "cells": [
  {
   "cell_type": "code",
   "execution_count": 1,
   "metadata": {},
   "outputs": [],
   "source": [
    "import json\n",
    "import numpy as np\n",
    "from monty.json import MontyDecoder,MontyEncoder\n",
    "from sklearn.metrics import mean_absolute_error,mean_squared_error\n",
    "import pandas as pd"
   ]
  },
  {
   "cell_type": "code",
   "execution_count": 2,
   "metadata": {},
   "outputs": [],
   "source": [
    "with open(\"Ti_data_both.json\") as f:\n",
    "    data=json.loads(f.read(),cls=MontyDecoder)"
   ]
  },
  {
   "cell_type": "code",
   "execution_count": 3,
   "metadata": {},
   "outputs": [],
   "source": [
    "bd=-47.039394/6\n",
    "b1=-47.02055184878181/6"
   ]
  },
  {
   "cell_type": "code",
   "execution_count": 32,
   "metadata": {},
   "outputs": [],
   "source": [
    "colors=['black','dimgray','lightcoral','brown','red','orangered','chocolate',\n",
    "        'burlywood','orange','darkgoldenrod','gold','olive','darkolivegreen','chartreuse',\n",
    "        'green','turquoise','darkcyan','deepskyblue','dodgerblue','midnightblue','blue',\n",
    "        'blueviolet','violet','deeppink']\n",
    "index=np.array([0,4,8,12,16,20,1,5,9,13,17,21,2,6,10,14,18,22,3,7,11,15,19,23])\n",
    "colors_=[]\n",
    "for i in index:\n",
    "    colors_.append(colors[i])\n",
    "colors=colors_\n",
    "markers=['.','o','v','^','<','>','s','*','D','1','+','x',\n",
    "            '.','o','v','^','<','>','s','*','D','1','+','x']"
   ]
  },
  {
   "cell_type": "markdown",
   "metadata": {},
   "source": [
    "# Vacancy"
   ]
  },
  {
   "cell_type": "code",
   "execution_count": 84,
   "metadata": {},
   "outputs": [
    {
     "name": "stdout",
     "output_type": "stream",
     "text": [
      "{'method': 'vacancy', 'proto': 'mp-865373POSCAR', 'deleted_site': 0, 'perturbation': 'vacancies', 'calc_loc': '/scratch/anirudhrn/titanium/vacancies/va_calculations/mp-865373POSCAR/0'}\n",
      "{'method': 'vacancy', 'proto': 'mp-865373POSCAR', 'deleted_site': 18, 'perturbation': 'vacancies', 'calc_loc': '/scratch/anirudhrn/titanium/vacancies/va_calculations/mp-865373POSCAR/1'}\n"
     ]
    }
   ],
   "source": [
    "for i in np.arange(len(data)):\n",
    "    if data[i]['metadata']['perturbation'].startswith(\"vacancies\") and data[i]['metadata']['proto']=='mp-865373POSCAR' and data[i]['calc']=='final':\n",
    "        print(data[i]['metadata'])"
   ]
  },
  {
   "cell_type": "code",
   "execution_count": 85,
   "metadata": {},
   "outputs": [
    {
     "name": "stdout",
     "output_type": "stream",
     "text": [
      "{'method': 'vacancy', 'proto': 'casi-alth', 'deleted_site': 0, 'perturbation': 'vacancies', 'calc_loc': '/scratch/anirudhrn/titanium/vacancies/va_calculations/casi-alth/0'}\n",
      "{'method': 'vacancy', 'proto': 'casi-alth', 'deleted_site': 16, 'perturbation': 'vacancies', 'calc_loc': '/scratch/anirudhrn/titanium/vacancies/va_calculations/casi-alth/1'}\n"
     ]
    }
   ],
   "source": [
    "for i in np.arange(len(data)):\n",
    "    if data[i]['metadata']['perturbation'].startswith(\"vacancies\") and data[i]['metadata']['proto']=='casi-alth' and data[i]['calc']=='final':\n",
    "        print(data[i]['metadata'])"
   ]
  },
  {
   "cell_type": "code",
   "execution_count": 86,
   "metadata": {},
   "outputs": [
    {
     "name": "stdout",
     "output_type": "stream",
     "text": [
      "{'method': 'vacancy', 'proto': 'omega', 'deleted_site': 0, 'perturbation': 'vacancies', 'calc_loc': '/scratch/anirudhrn/titanium/vacancies/va_calculations/omega/0'}\n",
      "{'method': 'vacancy', 'proto': 'omega', 'deleted_site': 72, 'perturbation': 'vacancies', 'calc_loc': '/scratch/anirudhrn/titanium/vacancies/va_calculations/omega/1'}\n",
      "{'method': 'vacancy_ideal', 'proto': 'omega', 'perturbation': 'vacancies_ideal', 'calc_loc': '/scratch/anirudhrn/titanium/vacancies/ideal_calculations/omega'}\n"
     ]
    }
   ],
   "source": [
    "for i in np.arange(len(data)):\n",
    "    if data[i]['metadata']['perturbation'].startswith(\"vacancies\") and data[i]['metadata']['proto']=='omega' and data[i]['calc']=='final':\n",
    "        print(data[i]['metadata'])"
   ]
  },
  {
   "cell_type": "code",
   "execution_count": 87,
   "metadata": {},
   "outputs": [],
   "source": [
    "vacancy_id=[]\n",
    "for i in np.arange(len(data)):\n",
    "    if data[i]['metadata']['perturbation']==\"vacancies\" and data[i]['calc']=='final' and not data[i]['metadata']['proto']=='casi-alth' and not data[i]['metadata']['proto']=='mp-865373POSCAR':\n",
    "        vacancy_id.append(i)\n",
    "vacancy_ideal_id=[]\n",
    "for i in np.arange(len(data)):\n",
    "    if data[i]['metadata']['perturbation']==\"vacancies_ideal\" and data[i]['calc']=='final':\n",
    "        vacancy_ideal_id.append(i)"
   ]
  },
  {
   "cell_type": "code",
   "execution_count": 88,
   "metadata": {},
   "outputs": [],
   "source": [
    "protos=[]\n",
    "protos_=[]\n",
    "for id in vacancy_id:\n",
    "    protos.append(data[id]['metadata']['proto']+'_'+str(data[id]['metadata']['deleted_site'])+'|'+str(id))\n",
    "    protos_.append(data[id]['metadata']['proto']+'_'+str(data[id]['metadata']['deleted_site']))"
   ]
  },
  {
   "cell_type": "code",
   "execution_count": 89,
   "metadata": {},
   "outputs": [],
   "source": [
    "protos_ideal={}\n",
    "for id in vacancy_ideal_id:\n",
    "    protos_ideal[data[id]['metadata']['proto']]=id"
   ]
  },
  {
   "cell_type": "code",
   "execution_count": 90,
   "metadata": {},
   "outputs": [
    {
     "data": {
      "text/plain": [
       "{'mp-568714POSCAR': 12767,\n",
       " 'mp-568087POSCAR': 12768,\n",
       " 'omega': 12769,\n",
       " 'mp-753POSCAR': 12770,\n",
       " 'mp-10021POSCAR': 12771,\n",
       " 'mp-605790POSCAR': 12772,\n",
       " 'mp-29647POSCAR': 12773,\n",
       " 'mp-23313POSCAR': 12774,\n",
       " 'lisi': 12775,\n",
       " 'crsi2': 12776,\n",
       " 'tisi2': 12777,\n",
       " 'mp-639736POSCAR': 12778,\n",
       " 'ptte': 12779,\n",
       " 'mp-84POSCAR': 12780,\n",
       " 'ABAC': 12781,\n",
       " 'mob': 12782,\n",
       " 'bcc': 12783,\n",
       " 'la2sb': 12784,\n",
       " 'mp-142POSCAR': 12785,\n",
       " 'bapb3': 12786}"
      ]
     },
     "execution_count": 90,
     "metadata": {},
     "output_type": "execute_result"
    }
   ],
   "source": [
    "protos_ideal"
   ]
  },
  {
   "cell_type": "code",
   "execution_count": 91,
   "metadata": {},
   "outputs": [],
   "source": [
    "deltaEs=[]\n",
    "deltaEs_pred=[]\n",
    "for proto in list(protos):\n",
    "    delid=int(proto.split('|')[1])\n",
    "    # try:\n",
    "    idealid=protos_ideal[proto.split('_')[0]]\n",
    "    # except:\n",
    "    #     print(proto.split('_')[0])\n",
    "        # continue\n",
    "    N_proto=len(data[idealid]['structure'].species)\n",
    "    Eideal=data[idealid]['energy']\n",
    "    Evac=data[delid]['energy']\n",
    "    Eideal_pred=data[idealid]['2021']['energy']\n",
    "    Evac_pred=data[delid]['2021']['energy']   \n",
    "    deltaE=Evac-(N_proto-1)*Eideal/N_proto\n",
    "    deltaE_pred=Evac_pred-(N_proto-1)*Eideal_pred/N_proto\n",
    "    deltaEs.append(deltaE)\n",
    "    deltaEs_pred.append(deltaE_pred)\n"
   ]
  },
  {
   "cell_type": "code",
   "execution_count": 92,
   "metadata": {},
   "outputs": [],
   "source": [
    "d={'Structure_site':protos_,r'$E^{DFT} (eV)$':np.round(np.array(deltaEs),5),r'$E^{pred} (eV)$':np.round(np.array(deltaEs_pred),5)}\n",
    "df = pd.DataFrame(data=d)"
   ]
  },
  {
   "cell_type": "code",
   "execution_count": 93,
   "metadata": {},
   "outputs": [
    {
     "data": {
      "text/html": [
       "<div>\n",
       "<style scoped>\n",
       "    .dataframe tbody tr th:only-of-type {\n",
       "        vertical-align: middle;\n",
       "    }\n",
       "\n",
       "    .dataframe tbody tr th {\n",
       "        vertical-align: top;\n",
       "    }\n",
       "\n",
       "    .dataframe thead th {\n",
       "        text-align: right;\n",
       "    }\n",
       "</style>\n",
       "<table border=\"1\" class=\"dataframe\">\n",
       "  <thead>\n",
       "    <tr style=\"text-align: right;\">\n",
       "      <th></th>\n",
       "      <th>Structure_site</th>\n",
       "      <th>$E^{DFT} (eV)$</th>\n",
       "      <th>$E^{pred} (eV)$</th>\n",
       "    </tr>\n",
       "  </thead>\n",
       "  <tbody>\n",
       "    <tr>\n",
       "      <th>0</th>\n",
       "      <td>mp-568714POSCAR_0</td>\n",
       "      <td>0.51703</td>\n",
       "      <td>1.03058</td>\n",
       "    </tr>\n",
       "    <tr>\n",
       "      <th>1</th>\n",
       "      <td>omega_0</td>\n",
       "      <td>1.53842</td>\n",
       "      <td>1.79087</td>\n",
       "    </tr>\n",
       "    <tr>\n",
       "      <th>2</th>\n",
       "      <td>omega_72</td>\n",
       "      <td>3.05076</td>\n",
       "      <td>3.67771</td>\n",
       "    </tr>\n",
       "    <tr>\n",
       "      <th>3</th>\n",
       "      <td>mp-753POSCAR_0</td>\n",
       "      <td>2.07613</td>\n",
       "      <td>2.56099</td>\n",
       "    </tr>\n",
       "    <tr>\n",
       "      <th>4</th>\n",
       "      <td>mp-10021POSCAR_0</td>\n",
       "      <td>2.08458</td>\n",
       "      <td>1.54106</td>\n",
       "    </tr>\n",
       "    <tr>\n",
       "      <th>5</th>\n",
       "      <td>mp-605790POSCAR_0</td>\n",
       "      <td>0.44979</td>\n",
       "      <td>-3.31487</td>\n",
       "    </tr>\n",
       "    <tr>\n",
       "      <th>6</th>\n",
       "      <td>mp-29647POSCAR_0</td>\n",
       "      <td>2.41890</td>\n",
       "      <td>2.08143</td>\n",
       "    </tr>\n",
       "    <tr>\n",
       "      <th>7</th>\n",
       "      <td>mp-29647POSCAR_16</td>\n",
       "      <td>1.60607</td>\n",
       "      <td>1.22427</td>\n",
       "    </tr>\n",
       "    <tr>\n",
       "      <th>8</th>\n",
       "      <td>mp-23313POSCAR_0</td>\n",
       "      <td>1.95050</td>\n",
       "      <td>1.73306</td>\n",
       "    </tr>\n",
       "    <tr>\n",
       "      <th>9</th>\n",
       "      <td>lisi_0</td>\n",
       "      <td>1.96084</td>\n",
       "      <td>1.93382</td>\n",
       "    </tr>\n",
       "    <tr>\n",
       "      <th>10</th>\n",
       "      <td>crsi2_0</td>\n",
       "      <td>1.67355</td>\n",
       "      <td>-0.11137</td>\n",
       "    </tr>\n",
       "    <tr>\n",
       "      <th>11</th>\n",
       "      <td>tisi2_0</td>\n",
       "      <td>1.27055</td>\n",
       "      <td>0.90453</td>\n",
       "    </tr>\n",
       "    <tr>\n",
       "      <th>12</th>\n",
       "      <td>mp-639736POSCAR_0</td>\n",
       "      <td>-5.17918</td>\n",
       "      <td>-19.08561</td>\n",
       "    </tr>\n",
       "    <tr>\n",
       "      <th>13</th>\n",
       "      <td>ptte_0</td>\n",
       "      <td>2.01802</td>\n",
       "      <td>2.07380</td>\n",
       "    </tr>\n",
       "    <tr>\n",
       "      <th>14</th>\n",
       "      <td>ptte_24</td>\n",
       "      <td>2.07458</td>\n",
       "      <td>2.11124</td>\n",
       "    </tr>\n",
       "    <tr>\n",
       "      <th>15</th>\n",
       "      <td>mp-84POSCAR_0</td>\n",
       "      <td>-13.56295</td>\n",
       "      <td>-12.67259</td>\n",
       "    </tr>\n",
       "    <tr>\n",
       "      <th>16</th>\n",
       "      <td>ABAC_0</td>\n",
       "      <td>2.06482</td>\n",
       "      <td>2.24732</td>\n",
       "    </tr>\n",
       "    <tr>\n",
       "      <th>17</th>\n",
       "      <td>ABAC_32</td>\n",
       "      <td>1.87528</td>\n",
       "      <td>2.29040</td>\n",
       "    </tr>\n",
       "    <tr>\n",
       "      <th>18</th>\n",
       "      <td>mob_0</td>\n",
       "      <td>1.93821</td>\n",
       "      <td>0.88074</td>\n",
       "    </tr>\n",
       "    <tr>\n",
       "      <th>19</th>\n",
       "      <td>bcc_0</td>\n",
       "      <td>-3.02161</td>\n",
       "      <td>-3.39942</td>\n",
       "    </tr>\n",
       "    <tr>\n",
       "      <th>20</th>\n",
       "      <td>la2sb_0</td>\n",
       "      <td>2.59609</td>\n",
       "      <td>2.14817</td>\n",
       "    </tr>\n",
       "    <tr>\n",
       "      <th>21</th>\n",
       "      <td>la2sb_32</td>\n",
       "      <td>1.33082</td>\n",
       "      <td>0.23864</td>\n",
       "    </tr>\n",
       "    <tr>\n",
       "      <th>22</th>\n",
       "      <td>mp-142POSCAR_0</td>\n",
       "      <td>-0.37668</td>\n",
       "      <td>-5.31665</td>\n",
       "    </tr>\n",
       "    <tr>\n",
       "      <th>23</th>\n",
       "      <td>bapb3_0</td>\n",
       "      <td>2.18020</td>\n",
       "      <td>2.29475</td>\n",
       "    </tr>\n",
       "    <tr>\n",
       "      <th>24</th>\n",
       "      <td>bapb3_16</td>\n",
       "      <td>2.06428</td>\n",
       "      <td>2.17382</td>\n",
       "    </tr>\n",
       "  </tbody>\n",
       "</table>\n",
       "</div>"
      ],
      "text/plain": [
       "       Structure_site  $E^{DFT} (eV)$  $E^{pred} (eV)$\n",
       "0   mp-568714POSCAR_0         0.51703          1.03058\n",
       "1             omega_0         1.53842          1.79087\n",
       "2            omega_72         3.05076          3.67771\n",
       "3      mp-753POSCAR_0         2.07613          2.56099\n",
       "4    mp-10021POSCAR_0         2.08458          1.54106\n",
       "5   mp-605790POSCAR_0         0.44979         -3.31487\n",
       "6    mp-29647POSCAR_0         2.41890          2.08143\n",
       "7   mp-29647POSCAR_16         1.60607          1.22427\n",
       "8    mp-23313POSCAR_0         1.95050          1.73306\n",
       "9              lisi_0         1.96084          1.93382\n",
       "10            crsi2_0         1.67355         -0.11137\n",
       "11            tisi2_0         1.27055          0.90453\n",
       "12  mp-639736POSCAR_0        -5.17918        -19.08561\n",
       "13             ptte_0         2.01802          2.07380\n",
       "14            ptte_24         2.07458          2.11124\n",
       "15      mp-84POSCAR_0       -13.56295        -12.67259\n",
       "16             ABAC_0         2.06482          2.24732\n",
       "17            ABAC_32         1.87528          2.29040\n",
       "18              mob_0         1.93821          0.88074\n",
       "19              bcc_0        -3.02161         -3.39942\n",
       "20            la2sb_0         2.59609          2.14817\n",
       "21           la2sb_32         1.33082          0.23864\n",
       "22     mp-142POSCAR_0        -0.37668         -5.31665\n",
       "23            bapb3_0         2.18020          2.29475\n",
       "24           bapb3_16         2.06428          2.17382"
      ]
     },
     "execution_count": 93,
     "metadata": {},
     "output_type": "execute_result"
    }
   ],
   "source": [
    "df"
   ]
  },
  {
   "cell_type": "code",
   "execution_count": 94,
   "metadata": {},
   "outputs": [],
   "source": [
    "from pandas.plotting import  table\n",
    "from matplotlib import pyplot as plt\n",
    "\n",
    "fig = plt.figure(figsize=(5, 6))\n",
    "ax = fig.add_subplot(111, frame_on=False) # no visible frame\n",
    "ax.xaxis.set_visible(False)  # hide the x axis\n",
    "ax.yaxis.set_visible(False)  # hide the y axis\n",
    "\n",
    "table(ax, df, loc='center')  # where df is your data frame\n",
    "\n",
    "plt.savefig('Vacancy_formation.png',dpi=200)"
   ]
  },
  {
   "cell_type": "markdown",
   "metadata": {},
   "source": [
    "# Grain Boundary"
   ]
  },
  {
   "cell_type": "code",
   "execution_count": 73,
   "metadata": {},
   "outputs": [],
   "source": [
    "gb_id=[]\n",
    "for i in np.arange(len(data)):\n",
    "    if data[i]['metadata']['perturbation']==\"gb\" and data[i]['calc']=='final':\n",
    "        gb_id.append(i)\n",
    "icsd_id=[]\n",
    "for i in np.arange(len(data)):\n",
    "    if data[i]['metadata']['perturbation']==\"icsd\" and data[i]['calc']=='final':# and data[i]['metadata']['proto']=='bcc.vasp' or data[i]['metadata']['proto']=='hcp.vasp':\n",
    "        icsd_id.append(i)"
   ]
  },
  {
   "cell_type": "code",
   "execution_count": 75,
   "metadata": {},
   "outputs": [
    {
     "name": "stdout",
     "output_type": "stream",
     "text": [
      "Mo\n",
      "Mo\n",
      "Mo\n",
      "Mo\n",
      "Mo\n",
      "Mo\n",
      "Mo\n",
      "Ti\n"
     ]
    }
   ],
   "source": [
    "for id in gb_id:\n",
    "    print(data[id]['metadata']['ref_elem'])"
   ]
  },
  {
   "cell_type": "code",
   "execution_count": 76,
   "metadata": {},
   "outputs": [],
   "source": [
    "deltaEs_gb=[]\n",
    "deltaEspred_gb=[]\n",
    "for id in gb_id:\n",
    "    protoid=0\n",
    "    if data[id]['metadata']['ref_elem']=='Mo':\n",
    "        protoid=1000\n",
    "    if data[id]['metadata']['ref_elem']=='Ti':\n",
    "        protoid=928\n",
    "    N_gb=len(data[id]['structure'].species)\n",
    "    M_icsd=len(data[protoid]['structure'].species)\n",
    "    E_gb=data[id]['energy']\n",
    "    E_gb_pred=data[id]['2021']['energy']\n",
    "    E_icsd=data[protoid]['energy']\n",
    "    lattice=data[id]['structure'].lattice.matrix\n",
    "    A=np.linalg.norm(np.cross(lattice[0,:],lattice[1,:]))\n",
    "    deltaE_gb=(E_gb-E_icsd*N_gb/M_icsd)/2/A\n",
    "    deltaEpred_gb=(E_gb_pred-E_icsd*N_gb/M_icsd)/2/A\n",
    "    deltaEs_gb.append(deltaE_gb)\n",
    "    deltaEspred_gb.append(deltaEpred_gb)\n"
   ]
  },
  {
   "cell_type": "code",
   "execution_count": 77,
   "metadata": {},
   "outputs": [],
   "source": [
    "protos=['bcc','bcc','bcc','bcc','bcc','bcc','bcc','hcp']\n",
    "planes=[data[gb_id[i]]['metadata']['plane'] for i in np.arange(8)]\n",
    "sigmas=[data[gb_id[i]]['metadata']['sigma'] for i in np.arange(8)]"
   ]
  },
  {
   "cell_type": "code",
   "execution_count": 82,
   "metadata": {},
   "outputs": [],
   "source": [
    "d={'proto':protos,'plane':planes,'sigma':sigmas,r'$E^{DFT}(eV/Å^{2})$':np.round(np.array(deltaEs_gb),5),r'$E^{pred}(eV/Å^{2})$':np.round(np.array(deltaEspred_gb),5)}\n",
    "df = pd.DataFrame(data=d)"
   ]
  },
  {
   "cell_type": "code",
   "execution_count": 83,
   "metadata": {},
   "outputs": [],
   "source": [
    "from pandas.plotting import  table\n",
    "from matplotlib import pyplot as plt\n",
    "\n",
    "fig = plt.figure(figsize=(5, 6))\n",
    "ax = fig.add_subplot(111, frame_on=False) # no visible frame\n",
    "ax.xaxis.set_visible(False)  # hide the x axis\n",
    "ax.yaxis.set_visible(False)  # hide the y axis\n",
    "\n",
    "table(ax, df, loc='center')  # where df is your data frame\n",
    "\n",
    "plt.savefig('Grain_boundary.png',dpi=200)"
   ]
  },
  {
   "cell_type": "markdown",
   "metadata": {},
   "source": [
    "# Surface"
   ]
  },
  {
   "cell_type": "code",
   "execution_count": 99,
   "metadata": {},
   "outputs": [],
   "source": [
    "surface_id=[]\n",
    "for i in np.arange(len(data)):\n",
    "    if data[i]['metadata']['perturbation']==\"surfaces\" and data[i]['calc']=='final':\n",
    "        surface_id.append(i)\n",
    "icsd_id=[]\n",
    "for i in np.arange(len(data)):\n",
    "    if data[i]['metadata']['perturbation']==\"icsd\" and data[i]['calc']=='final':# and data[i]['metadata']['proto']=='bcc.vasp' or data[i]['metadata']['proto']=='hcp.vasp':\n",
    "        icsd_id.append(i)\n",
    "protoids={'hcp.vasp':928,'bcc.vasp':1000,'fcc.vasp':1565,'omega.vasp':900}"
   ]
  },
  {
   "cell_type": "code",
   "execution_count": 100,
   "metadata": {},
   "outputs": [],
   "source": [
    "deltaEs_sf=[]\n",
    "deltaEspred_sf=[]\n",
    "for id in surface_id:\n",
    "    protoid=protoids[data[id]['metadata']['proto']]\n",
    "    N_sf=len(data[id]['structure'].species)\n",
    "    M_icsd=len(data[protoid]['structure'].species)\n",
    "    E_sf=data[id]['energy']\n",
    "    E_sf_pred=data[id]['2021']['energy']\n",
    "    E_icsd=data[protoid]['energy']\n",
    "    lattice=data[id]['structure'].lattice.matrix\n",
    "    A=np.linalg.norm(np.cross(lattice[0,:],lattice[1,:]))\n",
    "    deltaE_sf=(E_sf-E_icsd*N_sf/M_icsd)/2/A\n",
    "    deltaEpred_sf=(E_sf_pred-E_icsd*N_sf/M_icsd)/2/A\n",
    "    deltaEs_sf.append(deltaE_sf)\n",
    "    deltaEspred_sf.append(deltaEpred_sf)\n"
   ]
  },
  {
   "cell_type": "code",
   "execution_count": 105,
   "metadata": {},
   "outputs": [],
   "source": [
    "protos=[data[id]['metadata']['proto'].split('.')[0] for id in surface_id]"
   ]
  },
  {
   "cell_type": "code",
   "execution_count": 103,
   "metadata": {},
   "outputs": [
    {
     "data": {
      "text/plain": [
       "{'method': 'surface',\n",
       " 'miller': [1, 1, 0],\n",
       " 'ouc': False,\n",
       " 'proto': 'omega.vasp',\n",
       " 'perturbation': 'surfaces',\n",
       " 'calc_loc': '/scratch/anirudhrn/titanium/surfaces/calculations/omega/1_1_0/0'}"
      ]
     },
     "execution_count": 103,
     "metadata": {},
     "output_type": "execute_result"
    }
   ],
   "source": [
    "data[surface_id[0]]['metadata']"
   ]
  },
  {
   "cell_type": "code",
   "execution_count": 104,
   "metadata": {},
   "outputs": [],
   "source": [
    "protos=[data[id]['metadata']['proto'].split('.')[0] for id in surface_id]\n",
    "planes=[data[id]['metadata']['miller'] for id in surface_id]"
   ]
  },
  {
   "cell_type": "code",
   "execution_count": 106,
   "metadata": {},
   "outputs": [],
   "source": [
    "d={'proto':protos,'plane':planes,r'$E^{DFT}(eV/Å^{2})$':np.round(np.array(deltaEs_sf),5),r'$E^{pred}(eV/Å^{2})$':np.round(np.array(deltaEspred_sf),5)}\n",
    "df = pd.DataFrame(data=d)"
   ]
  },
  {
   "cell_type": "code",
   "execution_count": 107,
   "metadata": {},
   "outputs": [],
   "source": [
    "from pandas.plotting import  table\n",
    "from matplotlib import pyplot as plt\n",
    "\n",
    "fig = plt.figure(figsize=(5, 6))\n",
    "ax = fig.add_subplot(111, frame_on=False) # no visible frame\n",
    "ax.xaxis.set_visible(False)  # hide the x axis\n",
    "ax.yaxis.set_visible(False)  # hide the y axis\n",
    "\n",
    "table(ax, df, loc='center')  # where df is your data frame\n",
    "\n",
    "plt.savefig('Surfaces.png',dpi=200)"
   ]
  },
  {
   "cell_type": "code",
   "execution_count": null,
   "metadata": {},
   "outputs": [],
   "source": []
  },
  {
   "cell_type": "markdown",
   "metadata": {},
   "source": [
    "# Strain"
   ]
  },
  {
   "cell_type": "code",
   "execution_count": 22,
   "metadata": {},
   "outputs": [],
   "source": [
    "protos=set()\n",
    "for id in strain_id:\n",
    "    protos.add(data[id]['metadata']['proto'])\n",
    "protos=list(protos)"
   ]
  },
  {
   "cell_type": "code",
   "execution_count": 50,
   "metadata": {},
   "outputs": [],
   "source": [
    "strain_id=[]\n",
    "for i in np.arange(len(data)):\n",
    "    if data[i]['metadata']['perturbation']==\"strain\" and data[i]['calc']=='final':\n",
    "        strain_id.append(i)"
   ]
  },
  {
   "cell_type": "code",
   "execution_count": 36,
   "metadata": {},
   "outputs": [],
   "source": [
    "for id in strain_id:\n",
    "    if not 'magnitude' in data[id]['metadata'].keys():\n",
    "        print(id)"
   ]
  },
  {
   "cell_type": "code",
   "execution_count": 60,
   "metadata": {},
   "outputs": [],
   "source": [
    "from matplotlib import pyplot as plt\n",
    "for proto in protos:\n",
    "    strain_id=[]\n",
    "    for i in np.arange(len(data)):\n",
    "        if data[i]['metadata']['perturbation']==\"strain\" and data[i]['calc']=='final' and data[i]['metadata']['proto']==proto:\n",
    "            strain_id.append(i)\n",
    "    Es=np.zeros((len(strain_id),6))\n",
    "    i=0\n",
    "    for id in strain_id:\n",
    "        Es[i]=np.array(data[id]['metadata']['special_direction'])\n",
    "        i+=1\n",
    "    groups=[]\n",
    "    already=np.zeros(len(Es))\n",
    "    isidentical=abs(np.dot(Es,Es.T)-1)<1e-12\n",
    "    for i in np.arange(len(Es)):\n",
    "        if not already[i]==1:\n",
    "            thisgroup=np.where(isidentical[i]==True)\n",
    "            groups.append(thisgroup[0].tolist())\n",
    "            already[thisgroup]=1\n",
    "    i=0\n",
    "    with plt.style.context('science'):\n",
    "        plt.figure() \n",
    "        for group in groups:\n",
    "            magnitudes=[]\n",
    "            Energies=[]\n",
    "            Energies_pred=[]\n",
    "            for groupid in group:\n",
    "                Natom=len(data[strain_id[groupid]]['structure'].species)\n",
    "                magnitudes.append(data[strain_id[groupid]]['metadata']['magnitude'])\n",
    "                Energies.append(data[strain_id[groupid]]['energy']/Natom)\n",
    "                Energies_pred.append(data[strain_id[groupid]]['2021']['energy']/Natom)\n",
    "            magnitudes=np.array(magnitudes)\n",
    "            Energies=np.array(Energies)\n",
    "            Energies_pred=np.array(Energies_pred)\n",
    "            order=magnitudes.argsort()\n",
    "            plt.scatter(magnitudes[order],Energies[order]-bd,c=colors[i],marker=markers[i],s=2,label=np.round(data[strain_id[group[0]]]['metadata']['special_direction'],4))\n",
    "            plt.plot(magnitudes[order],Energies_pred[order]-b1,c=colors[i])\n",
    "            plt.legend(bbox_to_anchor=(0.5, -0.05))\n",
    "            i+=1\n",
    "        plt.savefig(\"Strains_\"+proto+\".png\",dpi=200)\n",
    "        plt.close()   \n",
    "\n",
    "    "
   ]
  },
  {
   "cell_type": "code",
   "execution_count": 7,
   "metadata": {},
   "outputs": [
    {
     "name": "stdout",
     "output_type": "stream",
     "text": [
      "420572\n",
      "420572\n",
      "420572\n",
      "420572\n",
      "419672\n",
      "418772\n",
      "418772\n",
      "418772\n",
      "418772\n",
      "418772\n",
      "418772\n",
      "236421\n"
     ]
    }
   ],
   "source": [
    "thresholds=[1e-5,1e-6,1e-7,1e-8,1e-9,1e-10,1e-11,1e-12,1e-13,1e-14,1e-15,1e-16]\n",
    "for thres in thresholds:\n",
    "    print(np.sum(abs(np.dot(Es,Es.T)-1)<thres))"
   ]
  },
  {
   "cell_type": "code",
   "execution_count": null,
   "metadata": {},
   "outputs": [],
   "source": []
  }
 ],
 "metadata": {
  "kernelspec": {
   "display_name": "Python 3.9.13",
   "language": "python",
   "name": "python3"
  },
  "language_info": {
   "codemirror_mode": {
    "name": "ipython",
    "version": 3
   },
   "file_extension": ".py",
   "mimetype": "text/x-python",
   "name": "python",
   "nbconvert_exporter": "python",
   "pygments_lexer": "ipython3",
   "version": "3.9.13 | packaged by conda-forge | (main, May 27 2022, 17:00:33) \n[Clang 13.0.1 ]"
  },
  "orig_nbformat": 4,
  "vscode": {
   "interpreter": {
    "hash": "73645be3863ba6b38e1fd5349e24a701f11e189fab09583c33df60ea71de73c9"
   }
  }
 },
 "nbformat": 4,
 "nbformat_minor": 2
}
