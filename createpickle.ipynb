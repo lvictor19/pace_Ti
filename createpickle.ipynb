{
 "cells": [
  {
   "cell_type": "code",
   "execution_count": 1,
   "metadata": {},
   "outputs": [],
   "source": [
    "import pandas as pd\n",
    "import json\n",
    "from monty.json import MontyDecoder,MontyEncoder\n",
    "from sklearn.metrics import mean_absolute_error,mean_squared_error\n",
    "import numpy as np\n",
    "from matplotlib import pyplot as plt\n",
    "from pymatgen.io.ase import AseAtomsAdaptor"
   ]
  },
  {
   "cell_type": "code",
   "execution_count": 2,
   "metadata": {},
   "outputs": [],
   "source": [
    "with open(\"Ti_data_both.json\") as f:\n",
    "    data_collection=json.loads(f.read(),cls=MontyDecoder)"
   ]
  },
  {
   "cell_type": "code",
   "execution_count": 20,
   "metadata": {},
   "outputs": [],
   "source": [
    "#get reference energy (omega) #\n",
    "bd=0\n",
    "for data in data_collection:\n",
    "    try:\n",
    "        if data['metadata']['perturbation']==\"icsd\" and data['calc']==\"final\" and data['metadata']['proto']==\"omega.vasp\":\n",
    "            bd=data['energy']\n",
    "    except:\n",
    "        pass\n",
    "\n",
    "assert bd!=0\n",
    "bd=bd/len(data['structure'].species)"
   ]
  },
  {
   "cell_type": "code",
   "execution_count": 25,
   "metadata": {},
   "outputs": [],
   "source": [
    "#get lists of energies, forces, ase_atoms objects, referenced energies#\n",
    "energies=[]\n",
    "forces=[]\n",
    "ase_atoms=[]\n",
    "energy_corrected=[]\n",
    "for data in data_collection:\n",
    "    energies.append(data['energy'])\n",
    "    forces.append(data['forces'])\n",
    "    ase_atoms.append(AseAtomsAdaptor.get_atoms(data['structure']))\n",
    "    energy_corrected.append(data['energy']-bd*len(data['structure'].species))\n"
   ]
  },
  {
   "cell_type": "code",
   "execution_count": 28,
   "metadata": {},
   "outputs": [],
   "source": [
    "#create dataframe and dump#\n",
    "d={\n",
    "    'energy':energies,\n",
    "    'forces':forces,\n",
    "    'ase_atoms':ase_atoms,\n",
    "    'energy_corrected':energy_corrected\n",
    "}\n",
    "df=pd.DataFrame(data=d)\n",
    "df.to_pickle('my_data.pckl.gzip', compression='gzip', protocol=4)\n",
    "# dff = pd.read_pickle(\"my_data.pckl.gzip\", compression=\"gzip\")"
   ]
  },
  {
   "cell_type": "code",
   "execution_count": null,
   "metadata": {},
   "outputs": [],
   "source": []
  }
 ],
 "metadata": {
  "kernelspec": {
   "display_name": "Python 3.9.13",
   "language": "python",
   "name": "python3"
  },
  "language_info": {
   "codemirror_mode": {
    "name": "ipython",
    "version": 3
   },
   "file_extension": ".py",
   "mimetype": "text/x-python",
   "name": "python",
   "nbconvert_exporter": "python",
   "pygments_lexer": "ipython3",
   "version": "3.9.13 | packaged by conda-forge | (main, May 27 2022, 17:00:33) \n[Clang 13.0.1 ]"
  },
  "orig_nbformat": 4,
  "vscode": {
   "interpreter": {
    "hash": "73645be3863ba6b38e1fd5349e24a701f11e189fab09583c33df60ea71de73c9"
   }
  }
 },
 "nbformat": 4,
 "nbformat_minor": 2
}
