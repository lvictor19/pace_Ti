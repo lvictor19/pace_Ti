{
 "cells": [
  {
   "cell_type": "code",
   "execution_count": 1,
   "metadata": {},
   "outputs": [],
   "source": [
    "import json\n",
    "from monty.json import MontyDecoder,MontyEncoder\n",
    "import numpy as np\n",
    "from pymatgen.io.ase import AseAtomsAdaptor\n",
    "from matplotlib import pyplot as plt\n",
    "\n",
    "with open(\"Ti_data.json\") as f:\n",
    "    data_collection=json.loads(f.read(),cls=MontyDecoder)"
   ]
  },
  {
   "cell_type": "code",
   "execution_count": 2,
   "metadata": {},
   "outputs": [],
   "source": [
    "import numpy as np\n",
    "vacancies_ideal_id={}\n",
    "for i in np.arange(len(data_collection)):\n",
    "    if data_collection[i]['metadata']['perturbation']=='vacancies_ideal':\n",
    "        vacancies_ideal_id[data_collection[i]['metadata']['proto']]=i\n",
    "\n",
    "vacancies_id=[]\n",
    "for i in np.arange(len(data_collection)):\n",
    "    if data_collection[i]['metadata']['perturbation']=='vacancies':\n",
    "        vacancies_id.append(i)"
   ]
  },
  {
   "cell_type": "code",
   "execution_count": 3,
   "metadata": {},
   "outputs": [],
   "source": [
    "from pymatgen.io.ase import AseAtomsAdaptor\n",
    "from pymatgen.symmetry.analyzer import SpacegroupAnalyzer\n",
    "from ase.neighborlist import neighbor_list\n",
    "from collections import Counter\n",
    "\n",
    "ideallist=list(vacancies_ideal_id.keys())\n",
    "ideal=ideallist[0]\n",
    "\n",
    "atoms=AseAtomsAdaptor.get_atoms(data_collection[vacancies_ideal_id[ideal]]['structure'])\n",
    "nl=neighbor_list('ijd',atoms,cutoff=5)\n"
   ]
  },
  {
   "cell_type": "code",
   "execution_count": 4,
   "metadata": {},
   "outputs": [],
   "source": [
    "for id in vacancies_id:\n",
    "    sg=SpacegroupAnalyzer(data_collection[id]['structure'])\n",
    "    sgd=sg.get_symmetrized_structure().as_dict()\n",
    "    cnt=Counter(sgd['equivalent_positions'])"
   ]
  },
  {
   "cell_type": "code",
   "execution_count": 5,
   "metadata": {},
   "outputs": [],
   "source": [
    "from pymatgen.io.vasp.inputs import Poscar\n",
    "from ase.io import write\n",
    "casi=Poscar.from_file('./ti_ideal_va/casi-alth/POS')\n",
    "mp_865373=Poscar.from_file('./ti_ideal_va/mp-865373POSCAR/POS')"
   ]
  },
  {
   "cell_type": "code",
   "execution_count": 6,
   "metadata": {},
   "outputs": [
    {
     "name": "stdout",
     "output_type": "stream",
     "text": [
      "2\n"
     ]
    }
   ],
   "source": [
    "sg=SpacegroupAnalyzer(casi.structure)\n",
    "sgd=sg.get_symmetrized_structure().as_dict()\n",
    "cnt_casi=Counter(sgd['equivalent_positions'])\n",
    "print(len(cnt_casi))"
   ]
  },
  {
   "cell_type": "code",
   "execution_count": 7,
   "metadata": {},
   "outputs": [
    {
     "name": "stdout",
     "output_type": "stream",
     "text": [
      "2\n"
     ]
    }
   ],
   "source": [
    "sg=SpacegroupAnalyzer(mp_865373.structure)\n",
    "sgd=sg.get_symmetrized_structure().as_dict()\n",
    "cnt_mp865373=Counter(sgd['equivalent_positions'])\n",
    "print(len(cnt_mp865373))"
   ]
  },
  {
   "cell_type": "code",
   "execution_count": 12,
   "metadata": {},
   "outputs": [],
   "source": [
    "def gen_halfway_struct(name,structure,cutoff=3.5):\n",
    "\n",
    "    sg=SpacegroupAnalyzer(structure)\n",
    "    sgd=sg.get_symmetrized_structure().as_dict()\n",
    "    cnt=Counter(sgd['equivalent_positions'])\n",
    "    sites=cnt.keys()\n",
    "    atoms=AseAtomsAdaptor.get_atoms(structure)\n",
    "    nl=neighbor_list('ijd',atoms,cutoff=cutoff)\n",
    "    for site in sites:\n",
    "        nl[0]==site\n",
    "    sg=SpacegroupAnalyzer(structure)\n",
    "    sgd=sg.get_symmetrized_structure().as_dict()\n",
    "    cnt=Counter(sgd['equivalent_positions'])\n",
    "    asym_sites=list(cnt.keys())\n",
    "    atoms=AseAtomsAdaptor.get_atoms(structure)\n",
    "    nl=neighbor_list('ijd',atoms,cutoff=cutoff)\n",
    "    for site in asym_sites:\n",
    "        plt.figure()\n",
    "        nlpos=np.where(nl[0]==site)[0]\n",
    "        neighequ_species=sgd['equivalent_positions'][nl[1][nlpos]]\n",
    "        for i in np.arange(len(nlpos)):\n",
    "            species_=[22]*len(structure.species)\n",
    "            species_[site]=29\n",
    "            whichsites=np.where(neighequ_species==neighequ_species[i])[0]\n",
    "            findsite=whichsites[np.where(whichsites!=site)[0][0]]\n",
    "            species_[findsite]=29\n",
    "            new_atoms=atoms\n",
    "            new_atoms.set_atomic_numbers(species_)\n",
    "            write('./VacancyPath/'+name+'_'+str(site)+'_'+str(neighequ_species[i])+'.vasp',new_atoms)\n",
    "            plt.scatter(neighequ_species[i],nl[2][nlpos][i])\n",
    "        plt.savefig('./VacancyPath/'+name+'_site'+str(site)+'.png')\n",
    "        plt.close()\n",
    "        \n"
   ]
  },
  {
   "cell_type": "code",
   "execution_count": 13,
   "metadata": {},
   "outputs": [],
   "source": [
    "for id in vacancies_id:\n",
    "    if data_collection[id]['calc']=='final':\n",
    "        if data_collection[id]['metadata']['proto']=='casi-alth':\n",
    "            assert data_collection[id]['metadata']['deleted_site'] in cnt_casi.keys()\n",
    "            gen_halfway_struct('casi',casi.structure)\n",
    "        elif data_collection[id]['metadata']['proto']=='mp-865373POSCAR':\n",
    "            assert data_collection[id]['metadata']['deleted_site'] in cnt_mp865373.keys()\n",
    "            gen_halfway_struct('mp_865373',mp_865373.structure)\n",
    "        else:\n",
    "            idealid=vacancies_ideal_id[data_collection[id]['metadata']['proto']]\n",
    "            sg=SpacegroupAnalyzer(data_collection[idealid]['structure'])\n",
    "            sgd=sg.get_symmetrized_structure().as_dict()\n",
    "            cnt=Counter(sgd['equivalent_positions'])\n",
    "            assert data_collection[id]['metadata']['deleted_site'] in cnt.keys()\n",
    "            gen_halfway_struct(data_collection[id]['metadata']['proto'],data_collection[idealid]['structure'])\n"
   ]
  },
  {
   "cell_type": "code",
   "execution_count": null,
   "metadata": {},
   "outputs": [],
   "source": []
  }
 ],
 "metadata": {
  "kernelspec": {
   "display_name": "ase",
   "language": "python",
   "name": "python3"
  },
  "language_info": {
   "codemirror_mode": {
    "name": "ipython",
    "version": 3
   },
   "file_extension": ".py",
   "mimetype": "text/x-python",
   "name": "python",
   "nbconvert_exporter": "python",
   "pygments_lexer": "ipython3",
   "version": "3.8.13"
  },
  "orig_nbformat": 4,
  "vscode": {
   "interpreter": {
    "hash": "f3a83f99df401e4c74e5c3d020fdda96a582db3929630a8b83d95a707b2d28cb"
   }
  }
 },
 "nbformat": 4,
 "nbformat_minor": 2
}
