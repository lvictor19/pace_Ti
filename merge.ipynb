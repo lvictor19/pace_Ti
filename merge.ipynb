{
 "cells": [
  {
   "cell_type": "code",
   "execution_count": 1,
   "metadata": {},
   "outputs": [],
   "source": [
    "import json\n",
    "from monty.json import MontyDecoder,MontyEncoder"
   ]
  },
  {
   "cell_type": "code",
   "execution_count": 2,
   "metadata": {},
   "outputs": [],
   "source": [
    "with open(\"master_config_list.json\") as f:\n",
    "    data=json.loads(f.read(),cls=MontyDecoder)"
   ]
  },
  {
   "cell_type": "code",
   "execution_count": 3,
   "metadata": {},
   "outputs": [],
   "source": [
    "with open(\"gmsf.json\") as f:\n",
    "    data1=json.loads(f.read(),cls=MontyDecoder)"
   ]
  },
  {
   "cell_type": "code",
   "execution_count": 4,
   "metadata": {},
   "outputs": [],
   "source": [
    "with open(\"pathways.json\") as f:\n",
    "    data2=json.loads(f.read(),cls=MontyDecoder)"
   ]
  },
  {
   "cell_type": "markdown",
   "metadata": {},
   "source": [
    "## transform data1&data2 to the same format as data"
   ]
  },
  {
   "cell_type": "code",
   "execution_count": 5,
   "metadata": {},
   "outputs": [],
   "source": [
    "import numpy as np\n",
    "for i in np.arange(len(data1)):\n",
    "    try:\n",
    "        data1[i]['structure']=data1[i]['calc_properties'][0]['structure']\n",
    "        data1[i]['forces']=data1[i]['calc_properties'][0]['forces']\n",
    "        data1[i]['energy']=data1[i]['calc_properties'][0]['energy']\n",
    "        data1[i]['calc']=data1[i]['calc_properties'][0]['calc']\n",
    "        del data1[i]['status']\n",
    "        del data1[i]['calc_loc']\n",
    "        del data1[i]['calc_properties']\n",
    "    except:\n",
    "        print(i)"
   ]
  },
  {
   "cell_type": "code",
   "execution_count": 6,
   "metadata": {},
   "outputs": [],
   "source": [
    "import numpy as np\n",
    "for i in np.arange(len(data2)):\n",
    "    try:\n",
    "        data2[i]['structure']=data2[i]['calc_properties'][0]['structure']\n",
    "        data2[i]['forces']=data2[i]['calc_properties'][0]['forces']\n",
    "        data2[i]['energy']=data2[i]['calc_properties'][0]['energy']\n",
    "        data2[i]['calc']=data2[i]['calc_properties'][0]['calc']\n",
    "        del data2[i]['status']\n",
    "        del data2[i]['calc_loc']\n",
    "        del data2[i]['calc_properties']\n",
    "    except:\n",
    "        print(i)"
   ]
  },
  {
   "cell_type": "code",
   "execution_count": 7,
   "metadata": {},
   "outputs": [],
   "source": [
    "data=data+data1+data2"
   ]
  },
  {
   "cell_type": "code",
   "execution_count": 9,
   "metadata": {},
   "outputs": [],
   "source": [
    "with open(\"Ti_data.json\",\"w\") as f:\n",
    "    json.dump(data,f,cls=MontyEncoder)"
   ]
  },
  {
   "cell_type": "code",
   "execution_count": null,
   "metadata": {},
   "outputs": [],
   "source": []
  }
 ],
 "metadata": {
  "kernelspec": {
   "display_name": "Python 3.9.13",
   "language": "python",
   "name": "python3"
  },
  "language_info": {
   "codemirror_mode": {
    "name": "ipython",
    "version": 3
   },
   "file_extension": ".py",
   "mimetype": "text/x-python",
   "name": "python",
   "nbconvert_exporter": "python",
   "pygments_lexer": "ipython3",
   "version": "3.9.13 | packaged by conda-forge | (main, May 27 2022, 17:00:33) \n[Clang 13.0.1 ]"
  },
  "orig_nbformat": 4,
  "vscode": {
   "interpreter": {
    "hash": "73645be3863ba6b38e1fd5349e24a701f11e189fab09583c33df60ea71de73c9"
   }
  }
 },
 "nbformat": 4,
 "nbformat_minor": 2
}
